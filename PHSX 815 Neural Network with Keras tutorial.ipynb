{
 "cells": [
  {
   "cell_type": "markdown",
   "metadata": {},
   "source": [
    "# How can we predict the quality of wine based on its physical characteristics?\n",
    "We will download the wine_quality dataset from Tensorflow (the Keras backend) to train a neural network to predict wine quality."
   ]
  },
  {
   "cell_type": "code",
   "execution_count": 3,
   "metadata": {},
   "outputs": [],
   "source": [
    "import matplotlib.pyplot as plt\n",
    "import seaborn as sns\n",
    "import numpy as np\n",
    "from sklearn.preprocessing import OneHotEncoder, MinMaxScaler\n",
    "from sklearn.metrics import confusion_matrix\n",
    "from sklearn.model_selection import train_test_split\n",
    "import pandas as pd\n",
    "\n",
    "import tensorflow as tf\n",
    "from tensorflow.keras.models import Sequential, Model\n",
    "from tensorflow.keras.layers import *\n",
    "# from tensorflow.keras.optimizers import SGD, Adam\n",
    "# from tensorflow.keras.activations import relu\n",
    "import tensorflow_datasets as tfds\n",
    "from IPython.core.interactiveshell import InteractiveShell\n",
    "InteractiveShell.ast_node_interactivity = \"all\""
   ]
  },
  {
   "cell_type": "code",
   "execution_count": 2,
   "metadata": {},
   "outputs": [
    {
     "name": "stdout",
     "output_type": "stream",
     "text": [
      "\u001b[1mDownloading and preparing dataset Unknown size (download: Unknown size, generated: Unknown size, total: Unknown size) to C:\\Users\\nf238\\tensorflow_datasets\\wine_quality\\white\\1.0.0...\u001b[0m\n"
     ]
    },
    {
     "data": {
      "application/vnd.jupyter.widget-view+json": {
       "model_id": "66e0e57f772347d9ac810a1a5aa3bd08",
       "version_major": 2,
       "version_minor": 0
      },
      "text/plain": [
       "HBox(children=(HTML(value='Dl Completed...'), FloatProgress(value=1.0, bar_style='info', layout=Layout(width='…"
      ]
     },
     "metadata": {},
     "output_type": "display_data"
    },
    {
     "data": {
      "application/vnd.jupyter.widget-view+json": {
       "model_id": "46ffc94a1b97448eb10f69b5e2890d1c",
       "version_major": 2,
       "version_minor": 0
      },
      "text/plain": [
       "HBox(children=(HTML(value='Dl Size...'), FloatProgress(value=1.0, bar_style='info', layout=Layout(width='20px'…"
      ]
     },
     "metadata": {},
     "output_type": "display_data"
    },
    {
     "name": "stdout",
     "output_type": "stream",
     "text": [
      "\n",
      "\n",
      "\n",
      "\n"
     ]
    },
    {
     "data": {
      "application/vnd.jupyter.widget-view+json": {
       "model_id": "",
       "version_major": 2,
       "version_minor": 0
      },
      "text/plain": [
       "HBox(children=(HTML(value='Generating splits...'), FloatProgress(value=0.0, max=1.0), HTML(value='')))"
      ]
     },
     "metadata": {},
     "output_type": "display_data"
    },
    {
     "data": {
      "application/vnd.jupyter.widget-view+json": {
       "model_id": "",
       "version_major": 2,
       "version_minor": 0
      },
      "text/plain": [
       "HBox(children=(HTML(value='Generating train examples...'), FloatProgress(value=1.0, bar_style='info', layout=L…"
      ]
     },
     "metadata": {},
     "output_type": "display_data"
    },
    {
     "data": {
      "application/vnd.jupyter.widget-view+json": {
       "model_id": "",
       "version_major": 2,
       "version_minor": 0
      },
      "text/plain": [
       "HBox(children=(HTML(value='Shuffling wine_quality-train.tfrecord...'), FloatProgress(value=0.0, max=4898.0), H…"
      ]
     },
     "metadata": {},
     "output_type": "display_data"
    },
    {
     "name": "stdout",
     "output_type": "stream",
     "text": [
      "\u001b[1mDataset wine_quality downloaded and prepared to C:\\Users\\nf238\\tensorflow_datasets\\wine_quality\\white\\1.0.0. Subsequent calls will reuse this data.\u001b[0m\n",
      "Features and label for first entry\n",
      "{'alcohol': 9.0, 'chlorides': 0.054, 'citric acid': 0.34, 'density': 1.0008, 'fixed acidity': 7.6, 'free sulfur dioxide': 44.0, 'pH': 3.22, 'residual sugar': 18.35, 'sulphates': 0.550000011920929, 'total sulfur dioxide': 197.0, 'volatile acidity': 0.32} 5\n",
      "\u001b[1mDownloading and preparing dataset Unknown size (download: Unknown size, generated: Unknown size, total: Unknown size) to C:\\Users\\nf238\\tensorflow_datasets\\wine_quality\\red\\1.0.0...\u001b[0m\n"
     ]
    },
    {
     "data": {
      "application/vnd.jupyter.widget-view+json": {
       "model_id": "1632c4629fdc4c9d8a0e76175bf19a53",
       "version_major": 2,
       "version_minor": 0
      },
      "text/plain": [
       "HBox(children=(HTML(value='Dl Completed...'), FloatProgress(value=1.0, bar_style='info', layout=Layout(width='…"
      ]
     },
     "metadata": {},
     "output_type": "display_data"
    },
    {
     "data": {
      "application/vnd.jupyter.widget-view+json": {
       "model_id": "1263546ece934382bea41f14f4f40077",
       "version_major": 2,
       "version_minor": 0
      },
      "text/plain": [
       "HBox(children=(HTML(value='Dl Size...'), FloatProgress(value=1.0, bar_style='info', layout=Layout(width='20px'…"
      ]
     },
     "metadata": {},
     "output_type": "display_data"
    },
    {
     "name": "stdout",
     "output_type": "stream",
     "text": [
      "\n",
      "\n",
      "\n",
      "\n"
     ]
    },
    {
     "data": {
      "application/vnd.jupyter.widget-view+json": {
       "model_id": "",
       "version_major": 2,
       "version_minor": 0
      },
      "text/plain": [
       "HBox(children=(HTML(value='Generating splits...'), FloatProgress(value=0.0, max=1.0), HTML(value='')))"
      ]
     },
     "metadata": {},
     "output_type": "display_data"
    },
    {
     "data": {
      "application/vnd.jupyter.widget-view+json": {
       "model_id": "",
       "version_major": 2,
       "version_minor": 0
      },
      "text/plain": [
       "HBox(children=(HTML(value='Generating train examples...'), FloatProgress(value=1.0, bar_style='info', layout=L…"
      ]
     },
     "metadata": {},
     "output_type": "display_data"
    },
    {
     "data": {
      "application/vnd.jupyter.widget-view+json": {
       "model_id": "",
       "version_major": 2,
       "version_minor": 0
      },
      "text/plain": [
       "HBox(children=(HTML(value='Shuffling wine_quality-train.tfrecord...'), FloatProgress(value=0.0, max=1599.0), H…"
      ]
     },
     "metadata": {},
     "output_type": "display_data"
    },
    {
     "name": "stdout",
     "output_type": "stream",
     "text": [
      "\u001b[1mDataset wine_quality downloaded and prepared to C:\\Users\\nf238\\tensorflow_datasets\\wine_quality\\red\\1.0.0. Subsequent calls will reuse this data.\u001b[0m\n",
      "number of samples 6497\n",
      "possible wine quality ratings [5 6 4 8 7 3 9]\n"
     ]
    }
   ],
   "source": [
    "#if you want to load the data as tuples, you can use the as_supervised=True argument\n",
    "data_train = tfds.load('wine_quality',split='train',as_supervised=True)\n",
    "\n",
    "#looking at just one sample of our data\n",
    "pt = data_train.take(1)\n",
    "# type(pt)\n",
    "\n",
    "#can convert this TakeDataset object to a numpy array (can do this for the whole dataset too)\n",
    "print(\"Features and label for first entry\")\n",
    "for features, label in tfds.as_numpy(pt):\n",
    "    print(features,label)\n",
    "\n",
    "#we want to load dataset as a dictionary of tf.Tensors (can't transform tuples to dataframe)\n",
    "data_train_white = tfds.load('wine_quality/white',split='train')\n",
    "data_train_red = tfds.load('wine_quality/red',split='train')\n",
    "\n",
    "#transform dictionary to dataframe - combining red and white wine\n",
    "df_white = tfds.as_dataframe(data_train_white)\n",
    "df_red = tfds.as_dataframe(data_train_red)\n",
    "df = pd.concat([df_white,df_red])\n",
    "\n",
    "print('number of samples',len(df['quality']))\n",
    "\n",
    "#what are our output possibilities?\n",
    "print('possible wine quality ratings',df['quality'].unique())"
   ]
  },
  {
   "cell_type": "code",
   "execution_count": 7,
   "metadata": {},
   "outputs": [
    {
     "name": "stdout",
     "output_type": "stream",
     "text": [
      "all good!\n"
     ]
    }
   ],
   "source": [
    "#do we have any missing data (empty or NaN entries in features or labels)?\n",
    "dataNans = df.isnull().values.any()\n",
    "if not dataNans:\n",
    "    print(\"all good!\")"
   ]
  },
  {
   "cell_type": "code",
   "execution_count": 8,
   "metadata": {},
   "outputs": [
    {
     "data": {
      "text/plain": [
       "array([5, 6, 4, 8, 7, 3, 9], dtype=int64)"
      ]
     },
     "execution_count": 8,
     "metadata": {},
     "output_type": "execute_result"
    },
    {
     "data": {
      "text/html": [
       "<div>\n",
       "<style scoped>\n",
       "    .dataframe tbody tr th:only-of-type {\n",
       "        vertical-align: middle;\n",
       "    }\n",
       "\n",
       "    .dataframe tbody tr th {\n",
       "        vertical-align: top;\n",
       "    }\n",
       "\n",
       "    .dataframe thead th {\n",
       "        text-align: right;\n",
       "    }\n",
       "</style>\n",
       "<table border=\"1\" class=\"dataframe\">\n",
       "  <thead>\n",
       "    <tr style=\"text-align: right;\">\n",
       "      <th></th>\n",
       "      <th>features/alcohol</th>\n",
       "      <th>features/chlorides</th>\n",
       "      <th>features/citric acid</th>\n",
       "      <th>features/density</th>\n",
       "      <th>features/fixed acidity</th>\n",
       "      <th>features/free sulfur dioxide</th>\n",
       "      <th>features/pH</th>\n",
       "      <th>features/residual sugar</th>\n",
       "      <th>features/sulphates</th>\n",
       "      <th>features/total sulfur dioxide</th>\n",
       "      <th>features/volatile acidity</th>\n",
       "    </tr>\n",
       "  </thead>\n",
       "  <tbody>\n",
       "    <tr>\n",
       "      <th>649</th>\n",
       "      <td>9.600000</td>\n",
       "      <td>0.094</td>\n",
       "      <td>0.54</td>\n",
       "      <td>0.99840</td>\n",
       "      <td>9.7</td>\n",
       "      <td>28.0</td>\n",
       "      <td>3.28</td>\n",
       "      <td>2.5</td>\n",
       "      <td>0.82</td>\n",
       "      <td>83.0</td>\n",
       "      <td>0.320</td>\n",
       "    </tr>\n",
       "    <tr>\n",
       "      <th>2043</th>\n",
       "      <td>10.300000</td>\n",
       "      <td>0.049</td>\n",
       "      <td>0.21</td>\n",
       "      <td>0.99240</td>\n",
       "      <td>6.3</td>\n",
       "      <td>35.0</td>\n",
       "      <td>3.31</td>\n",
       "      <td>1.8</td>\n",
       "      <td>0.50</td>\n",
       "      <td>163.0</td>\n",
       "      <td>0.190</td>\n",
       "    </tr>\n",
       "    <tr>\n",
       "      <th>1769</th>\n",
       "      <td>11.700000</td>\n",
       "      <td>0.038</td>\n",
       "      <td>0.29</td>\n",
       "      <td>0.99088</td>\n",
       "      <td>6.9</td>\n",
       "      <td>28.0</td>\n",
       "      <td>3.01</td>\n",
       "      <td>2.4</td>\n",
       "      <td>0.36</td>\n",
       "      <td>76.0</td>\n",
       "      <td>0.250</td>\n",
       "    </tr>\n",
       "    <tr>\n",
       "      <th>50</th>\n",
       "      <td>9.600000</td>\n",
       "      <td>0.090</td>\n",
       "      <td>0.11</td>\n",
       "      <td>0.99650</td>\n",
       "      <td>8.4</td>\n",
       "      <td>16.0</td>\n",
       "      <td>3.19</td>\n",
       "      <td>1.9</td>\n",
       "      <td>0.82</td>\n",
       "      <td>63.0</td>\n",
       "      <td>0.745</td>\n",
       "    </tr>\n",
       "    <tr>\n",
       "      <th>1828</th>\n",
       "      <td>9.633333</td>\n",
       "      <td>0.066</td>\n",
       "      <td>0.23</td>\n",
       "      <td>0.99266</td>\n",
       "      <td>6.0</td>\n",
       "      <td>22.0</td>\n",
       "      <td>3.30</td>\n",
       "      <td>1.1</td>\n",
       "      <td>0.47</td>\n",
       "      <td>148.0</td>\n",
       "      <td>0.410</td>\n",
       "    </tr>\n",
       "  </tbody>\n",
       "</table>\n",
       "</div>"
      ],
      "text/plain": [
       "      features/alcohol  features/chlorides  features/citric acid  \\\n",
       "649           9.600000               0.094                  0.54   \n",
       "2043         10.300000               0.049                  0.21   \n",
       "1769         11.700000               0.038                  0.29   \n",
       "50            9.600000               0.090                  0.11   \n",
       "1828          9.633333               0.066                  0.23   \n",
       "\n",
       "      features/density  features/fixed acidity  features/free sulfur dioxide  \\\n",
       "649            0.99840                     9.7                          28.0   \n",
       "2043           0.99240                     6.3                          35.0   \n",
       "1769           0.99088                     6.9                          28.0   \n",
       "50             0.99650                     8.4                          16.0   \n",
       "1828           0.99266                     6.0                          22.0   \n",
       "\n",
       "      features/pH  features/residual sugar  features/sulphates  \\\n",
       "649          3.28                      2.5                0.82   \n",
       "2043         3.31                      1.8                0.50   \n",
       "1769         3.01                      2.4                0.36   \n",
       "50           3.19                      1.9                0.82   \n",
       "1828         3.30                      1.1                0.47   \n",
       "\n",
       "      features/total sulfur dioxide  features/volatile acidity  \n",
       "649                            83.0                      0.320  \n",
       "2043                          163.0                      0.190  \n",
       "1769                           76.0                      0.250  \n",
       "50                             63.0                      0.745  \n",
       "1828                          148.0                      0.410  "
      ]
     },
     "execution_count": 8,
     "metadata": {},
     "output_type": "execute_result"
    }
   ],
   "source": [
    "#it's helpful to separate our input features from our target features (quality) \n",
    "#so we can later only transform our inputs without changing our labels\n",
    "labels = df['quality']\n",
    "df = df.drop(labels='quality',axis=1)\n",
    "labels.unique()\n",
    "\n",
    "enc = OneHotEncoder(sparse=False)\n",
    "labels = enc.fit_transform(labels.to_numpy().reshape(-1,1))\n",
    "\n",
    "#make our test data\n",
    "df, df_test, labels, df_testLabels = train_test_split(df,labels,test_size=0.1)\n",
    "\n",
    "#look at the first 5 entries\n",
    "df.head()"
   ]
  },
  {
   "cell_type": "code",
   "execution_count": 12,
   "metadata": {},
   "outputs": [
    {
     "name": "stdout",
     "output_type": "stream",
     "text": [
      "all good!\n"
     ]
    }
   ],
   "source": [
    "#Are there any Nans in our test data?\n",
    "\n",
    "dataNans = df.isnull().values.any()\n",
    "if not dataNans:\n",
    "    print(\"all good!\")\n"
   ]
  },
  {
   "cell_type": "code",
   "execution_count": 16,
   "metadata": {},
   "outputs": [
    {
     "data": {
      "text/html": [
       "<div>\n",
       "<style scoped>\n",
       "    .dataframe tbody tr th:only-of-type {\n",
       "        vertical-align: middle;\n",
       "    }\n",
       "\n",
       "    .dataframe tbody tr th {\n",
       "        vertical-align: top;\n",
       "    }\n",
       "\n",
       "    .dataframe thead th {\n",
       "        text-align: right;\n",
       "    }\n",
       "</style>\n",
       "<table border=\"1\" class=\"dataframe\">\n",
       "  <thead>\n",
       "    <tr style=\"text-align: right;\">\n",
       "      <th></th>\n",
       "      <th>features/alcohol</th>\n",
       "      <th>features/chlorides</th>\n",
       "      <th>features/citric acid</th>\n",
       "      <th>features/density</th>\n",
       "      <th>features/fixed acidity</th>\n",
       "      <th>features/free sulfur dioxide</th>\n",
       "      <th>features/pH</th>\n",
       "      <th>features/residual sugar</th>\n",
       "      <th>features/sulphates</th>\n",
       "      <th>features/total sulfur dioxide</th>\n",
       "      <th>features/volatile acidity</th>\n",
       "    </tr>\n",
       "  </thead>\n",
       "  <tbody>\n",
       "    <tr>\n",
       "      <th>count</th>\n",
       "      <td>5847.000000</td>\n",
       "      <td>5847.000000</td>\n",
       "      <td>5847.000000</td>\n",
       "      <td>5847.000000</td>\n",
       "      <td>5847.000000</td>\n",
       "      <td>5847.000000</td>\n",
       "      <td>5847.000000</td>\n",
       "      <td>5847.000000</td>\n",
       "      <td>5847.000000</td>\n",
       "      <td>5847.000000</td>\n",
       "      <td>5847.000000</td>\n",
       "    </tr>\n",
       "    <tr>\n",
       "      <th>mean</th>\n",
       "      <td>10.487415</td>\n",
       "      <td>0.056245</td>\n",
       "      <td>0.318575</td>\n",
       "      <td>0.994729</td>\n",
       "      <td>7.220361</td>\n",
       "      <td>30.479819</td>\n",
       "      <td>3.219064</td>\n",
       "      <td>5.464050</td>\n",
       "      <td>0.532649</td>\n",
       "      <td>115.570549</td>\n",
       "      <td>0.339958</td>\n",
       "    </tr>\n",
       "    <tr>\n",
       "      <th>std</th>\n",
       "      <td>1.189678</td>\n",
       "      <td>0.035263</td>\n",
       "      <td>0.145750</td>\n",
       "      <td>0.003003</td>\n",
       "      <td>1.295928</td>\n",
       "      <td>17.856343</td>\n",
       "      <td>0.159889</td>\n",
       "      <td>4.785153</td>\n",
       "      <td>0.149934</td>\n",
       "      <td>56.788409</td>\n",
       "      <td>0.163549</td>\n",
       "    </tr>\n",
       "    <tr>\n",
       "      <th>min</th>\n",
       "      <td>8.000000</td>\n",
       "      <td>0.012000</td>\n",
       "      <td>0.000000</td>\n",
       "      <td>0.987110</td>\n",
       "      <td>3.800000</td>\n",
       "      <td>1.000000</td>\n",
       "      <td>2.720000</td>\n",
       "      <td>0.600000</td>\n",
       "      <td>0.220000</td>\n",
       "      <td>6.000000</td>\n",
       "      <td>0.080000</td>\n",
       "    </tr>\n",
       "    <tr>\n",
       "      <th>25%</th>\n",
       "      <td>9.500000</td>\n",
       "      <td>0.038000</td>\n",
       "      <td>0.240000</td>\n",
       "      <td>0.992400</td>\n",
       "      <td>6.400000</td>\n",
       "      <td>17.000000</td>\n",
       "      <td>3.110000</td>\n",
       "      <td>1.800000</td>\n",
       "      <td>0.430000</td>\n",
       "      <td>77.000000</td>\n",
       "      <td>0.230000</td>\n",
       "    </tr>\n",
       "    <tr>\n",
       "      <th>50%</th>\n",
       "      <td>10.300000</td>\n",
       "      <td>0.047000</td>\n",
       "      <td>0.310000</td>\n",
       "      <td>0.994900</td>\n",
       "      <td>7.000000</td>\n",
       "      <td>29.000000</td>\n",
       "      <td>3.210000</td>\n",
       "      <td>3.000000</td>\n",
       "      <td>0.510000</td>\n",
       "      <td>118.000000</td>\n",
       "      <td>0.290000</td>\n",
       "    </tr>\n",
       "    <tr>\n",
       "      <th>75%</th>\n",
       "      <td>11.300000</td>\n",
       "      <td>0.065000</td>\n",
       "      <td>0.390000</td>\n",
       "      <td>0.997000</td>\n",
       "      <td>7.700000</td>\n",
       "      <td>41.000000</td>\n",
       "      <td>3.320000</td>\n",
       "      <td>8.100000</td>\n",
       "      <td>0.600000</td>\n",
       "      <td>156.000000</td>\n",
       "      <td>0.410000</td>\n",
       "    </tr>\n",
       "    <tr>\n",
       "      <th>max</th>\n",
       "      <td>14.900000</td>\n",
       "      <td>0.611000</td>\n",
       "      <td>1.660000</td>\n",
       "      <td>1.038980</td>\n",
       "      <td>15.900000</td>\n",
       "      <td>289.000000</td>\n",
       "      <td>4.010000</td>\n",
       "      <td>65.800003</td>\n",
       "      <td>2.000000</td>\n",
       "      <td>440.000000</td>\n",
       "      <td>1.330000</td>\n",
       "    </tr>\n",
       "  </tbody>\n",
       "</table>\n",
       "</div>"
      ],
      "text/plain": [
       "       features/alcohol  features/chlorides  features/citric acid  \\\n",
       "count       5847.000000         5847.000000           5847.000000   \n",
       "mean          10.487415            0.056245              0.318575   \n",
       "std            1.189678            0.035263              0.145750   \n",
       "min            8.000000            0.012000              0.000000   \n",
       "25%            9.500000            0.038000              0.240000   \n",
       "50%           10.300000            0.047000              0.310000   \n",
       "75%           11.300000            0.065000              0.390000   \n",
       "max           14.900000            0.611000              1.660000   \n",
       "\n",
       "       features/density  features/fixed acidity  features/free sulfur dioxide  \\\n",
       "count       5847.000000             5847.000000                   5847.000000   \n",
       "mean           0.994729                7.220361                     30.479819   \n",
       "std            0.003003                1.295928                     17.856343   \n",
       "min            0.987110                3.800000                      1.000000   \n",
       "25%            0.992400                6.400000                     17.000000   \n",
       "50%            0.994900                7.000000                     29.000000   \n",
       "75%            0.997000                7.700000                     41.000000   \n",
       "max            1.038980               15.900000                    289.000000   \n",
       "\n",
       "       features/pH  features/residual sugar  features/sulphates  \\\n",
       "count  5847.000000              5847.000000         5847.000000   \n",
       "mean      3.219064                 5.464050            0.532649   \n",
       "std       0.159889                 4.785153            0.149934   \n",
       "min       2.720000                 0.600000            0.220000   \n",
       "25%       3.110000                 1.800000            0.430000   \n",
       "50%       3.210000                 3.000000            0.510000   \n",
       "75%       3.320000                 8.100000            0.600000   \n",
       "max       4.010000                65.800003            2.000000   \n",
       "\n",
       "       features/total sulfur dioxide  features/volatile acidity  \n",
       "count                    5847.000000                5847.000000  \n",
       "mean                      115.570549                   0.339958  \n",
       "std                        56.788409                   0.163549  \n",
       "min                         6.000000                   0.080000  \n",
       "25%                        77.000000                   0.230000  \n",
       "50%                       118.000000                   0.290000  \n",
       "75%                       156.000000                   0.410000  \n",
       "max                       440.000000                   1.330000  "
      ]
     },
     "execution_count": 16,
     "metadata": {},
     "output_type": "execute_result"
    }
   ],
   "source": [
    "df.describe()"
   ]
  },
  {
   "cell_type": "code",
   "execution_count": 17,
   "metadata": {},
   "outputs": [
    {
     "data": {
      "image/png": "[encoded data removed]",
      "text/plain": [
       "<Figure size 1080x1440 with 12 Axes>"
      ]
     },
     "metadata": {
      "needs_background": "light"
     },
     "output_type": "display_data"
    }
   ],
   "source": [
    "#visualizing our input features\n",
    "nFeatures = len(df.columns)\n",
    "nCols = 3\n",
    "nRows = int(np.ceil(nFeatures/nCols))\n",
    "cols = df.columns\n",
    "fig, axs = plt.subplots(nRows,nCols,figsize=(15,20))\n",
    "# for i, ax in enumerate(axs)\n",
    "col = 0\n",
    "for i in range(nRows):\n",
    "    for j in range(nCols):\n",
    "        if col >= nFeatures:\n",
    "            break\n",
    "        h = axs[i,j].hist(df[cols[col]])\n",
    "        h = axs[i,j].set_title(cols[col])\n",
    "        col += 1"
   ]
  },
  {
   "cell_type": "code",
   "execution_count": 21,
   "metadata": {},
   "outputs": [
    {
     "data": {
      "text/plain": [
       "<matplotlib.collections.PathCollection at 0x1f1d05be3d0>"
      ]
     },
     "execution_count": 21,
     "metadata": {},
     "output_type": "execute_result"
    },
    {
     "data": {
      "image/png": "[encoded data removed]",
      "text/plain": [
       "<Figure size 432x288 with 1 Axes>"
      ]
     },
     "metadata": {
      "needs_background": "light"
     },
     "output_type": "display_data"
    }
   ],
   "source": [
    "plt.scatter(df['features/alcohol'],df['features/residual sugar'])"
   ]
  },
  {
   "cell_type": "code",
   "execution_count": 22,
   "metadata": {},
   "outputs": [
    {
     "name": "stdout",
     "output_type": "stream",
     "text": [
      "Model: \"sequential\"\n",
      "_________________________________________________________________\n",
      "Layer (type)                 Output Shape              Param #   \n",
      "=================================================================\n",
      "dense (Dense)                (None, 64)                768       \n",
      "_________________________________________________________________\n",
      "dense_1 (Dense)              (None, 64)                4160      \n",
      "_________________________________________________________________\n",
      "dense_2 (Dense)              (None, 64)                4160      \n",
      "_________________________________________________________________\n",
      "dense_3 (Dense)              (None, 64)                4160      \n",
      "_________________________________________________________________\n",
      "dense_4 (Dense)              (None, 64)                4160      \n",
      "_________________________________________________________________\n",
      "dense_5 (Dense)              (None, 7)                 455       \n",
      "=================================================================\n",
      "Total params: 17,863\n",
      "Trainable params: 17,863\n",
      "Non-trainable params: 0\n",
      "_________________________________________________________________\n"
     ]
    }
   ],
   "source": [
    "# Building the NetworK\n",
    "\n",
    "cols = df.columns\n",
    "nClasses = len(labels[0])\n",
    "\n",
    "#using Keras's Sequential model - https://keras.io/api/models/sequential/\n",
    "model = Sequential()\n",
    "#add input layer\n",
    "model.add(Input(shape=(len(cols),))) #the input layer shape should match the number of features we have\n",
    "#add first layer of fully connected neurons\n",
    "model.add(Dense(64,activation='relu'))\n",
    "#add second layer (first hidden layer)\n",
    "model.add(Dense(64,activation='relu'))\n",
    "#and one more because why not\n",
    "model.add(Dense(64,activation='relu'))\n",
    "#Add two more layers\n",
    "model.add(Dense(64,activation='relu'))\n",
    "model.add(Dense(64,activation='relu'))\n",
    "#finally, our output layer should have only one neuron because we are trying to predict only one number\n",
    "#notice how there is a different activation function in this layer\n",
    "#this is because we want our outputs for each class to be a probability\n",
    "model.add(Dense(nClasses,activation='softmax'))\n",
    "\n",
    "#compile our model - set our loss metric (categorical cross entropy) and optimizer (stochastic gradient descent)\n",
    "#how does the model performance change with different optimizers (ie AdaGrad, SGD, etc.)?\n",
    "model.compile(loss='CategoricalCrossentropy',optimizer='Adam',metrics=['accuracy'])\n",
    "\n",
    "#let's see a summary of our model\n",
    "model.summary()"
   ]
  },
  {
   "cell_type": "code",
   "execution_count": 23,
   "metadata": {},
   "outputs": [
    {
     "name": "stdout",
     "output_type": "stream",
     "text": [
      "Epoch 1/120\n",
      "41/41 [==============================] - 2s 17ms/step - loss: 2.1798 - accuracy: 0.3372 - val_loss: 1.2959 - val_accuracy: 0.4479\n",
      "Epoch 2/120\n",
      "41/41 [==============================] - 0s 6ms/step - loss: 1.2992 - accuracy: 0.4174 - val_loss: 1.2620 - val_accuracy: 0.4479\n",
      "Epoch 3/120\n",
      "41/41 [==============================] - 0s 5ms/step - loss: 1.2772 - accuracy: 0.4213 - val_loss: 1.2550 - val_accuracy: 0.4638\n",
      "Epoch 4/120\n",
      "41/41 [==============================] - 0s 6ms/step - loss: 1.2402 - accuracy: 0.4434 - val_loss: 1.2407 - val_accuracy: 0.4427\n",
      "Epoch 5/120\n",
      "41/41 [==============================] - 0s 5ms/step - loss: 1.2348 - accuracy: 0.4344 - val_loss: 1.2375 - val_accuracy: 0.4661\n",
      "Epoch 6/120\n",
      "41/41 [==============================] - 0s 6ms/step - loss: 1.2295 - accuracy: 0.4436 - val_loss: 1.2324 - val_accuracy: 0.4490\n",
      "Epoch 7/120\n",
      "41/41 [==============================] - 0s 5ms/step - loss: 1.2302 - accuracy: 0.4516 - val_loss: 1.2188 - val_accuracy: 0.4462\n",
      "Epoch 8/120\n",
      "41/41 [==============================] - 0s 5ms/step - loss: 1.2197 - accuracy: 0.4380 - val_loss: 1.2297 - val_accuracy: 0.4501\n",
      "Epoch 9/120\n",
      "41/41 [==============================] - 0s 5ms/step - loss: 1.1950 - accuracy: 0.4815 - val_loss: 1.2128 - val_accuracy: 0.4843\n",
      "Epoch 10/120\n",
      "41/41 [==============================] - 0s 5ms/step - loss: 1.1781 - accuracy: 0.4751 - val_loss: 1.1928 - val_accuracy: 0.4553\n",
      "Epoch 11/120\n",
      "41/41 [==============================] - 0s 5ms/step - loss: 1.1772 - accuracy: 0.4685 - val_loss: 1.1816 - val_accuracy: 0.4838\n",
      "Epoch 12/120\n",
      "41/41 [==============================] - 0s 5ms/step - loss: 1.1709 - accuracy: 0.4664 - val_loss: 1.1662 - val_accuracy: 0.4855\n",
      "Epoch 13/120\n",
      "41/41 [==============================] - 0s 5ms/step - loss: 1.1804 - accuracy: 0.4690 - val_loss: 1.2631 - val_accuracy: 0.4678\n",
      "Epoch 14/120\n",
      "41/41 [==============================] - 0s 5ms/step - loss: 1.1723 - accuracy: 0.4770 - val_loss: 1.1551 - val_accuracy: 0.4877\n",
      "Epoch 15/120\n",
      "41/41 [==============================] - 0s 5ms/step - loss: 1.1344 - accuracy: 0.4920 - val_loss: 1.1480 - val_accuracy: 0.4718\n",
      "Epoch 16/120\n",
      "41/41 [==============================] - 0s 5ms/step - loss: 1.1166 - accuracy: 0.5050 - val_loss: 1.2064 - val_accuracy: 0.4684\n",
      "Epoch 17/120\n",
      "41/41 [==============================] - 0s 5ms/step - loss: 1.1649 - accuracy: 0.4906 - val_loss: 1.1379 - val_accuracy: 0.4872\n",
      "Epoch 18/120\n",
      "41/41 [==============================] - 0s 5ms/step - loss: 1.1021 - accuracy: 0.5045 - val_loss: 1.1229 - val_accuracy: 0.5026\n",
      "Epoch 19/120\n",
      "41/41 [==============================] - 0s 5ms/step - loss: 1.0972 - accuracy: 0.5193 - val_loss: 1.1893 - val_accuracy: 0.5009\n",
      "Epoch 20/120\n",
      "41/41 [==============================] - 0s 5ms/step - loss: 1.1271 - accuracy: 0.4905 - val_loss: 1.1214 - val_accuracy: 0.4980\n",
      "Epoch 21/120\n",
      "41/41 [==============================] - 0s 5ms/step - loss: 1.0816 - accuracy: 0.5078 - val_loss: 1.1577 - val_accuracy: 0.4575\n",
      "Epoch 22/120\n",
      "41/41 [==============================] - 0s 5ms/step - loss: 1.0955 - accuracy: 0.5023 - val_loss: 1.1975 - val_accuracy: 0.4877\n",
      "Epoch 23/120\n",
      "41/41 [==============================] - 0s 5ms/step - loss: 1.1312 - accuracy: 0.4862 - val_loss: 1.1090 - val_accuracy: 0.5236\n",
      "Epoch 24/120\n",
      "41/41 [==============================] - 0s 5ms/step - loss: 1.0832 - accuracy: 0.5138 - val_loss: 1.1367 - val_accuracy: 0.4872\n",
      "Epoch 25/120\n",
      "41/41 [==============================] - 0s 5ms/step - loss: 1.0690 - accuracy: 0.5190 - val_loss: 1.1135 - val_accuracy: 0.5168\n",
      "Epoch 26/120\n",
      "41/41 [==============================] - 0s 5ms/step - loss: 1.0674 - accuracy: 0.5227 - val_loss: 1.1276 - val_accuracy: 0.4855\n",
      "Epoch 27/120\n",
      "41/41 [==============================] - 0s 7ms/step - loss: 1.0818 - accuracy: 0.5111 - val_loss: 1.1088 - val_accuracy: 0.5288\n",
      "Epoch 28/120\n",
      "41/41 [==============================] - 0s 8ms/step - loss: 1.0709 - accuracy: 0.5204 - val_loss: 1.1507 - val_accuracy: 0.5214\n",
      "Epoch 29/120\n",
      "41/41 [==============================] - 0s 6ms/step - loss: 1.0717 - accuracy: 0.5395 - val_loss: 1.1383 - val_accuracy: 0.5088\n",
      "Epoch 30/120\n",
      "41/41 [==============================] - 0s 5ms/step - loss: 1.0687 - accuracy: 0.5202 - val_loss: 1.1147 - val_accuracy: 0.5208\n",
      "Epoch 31/120\n",
      "41/41 [==============================] - 0s 6ms/step - loss: 1.0948 - accuracy: 0.4961 - val_loss: 1.0992 - val_accuracy: 0.5333\n",
      "Epoch 32/120\n",
      "41/41 [==============================] - 0s 7ms/step - loss: 1.0642 - accuracy: 0.5176 - val_loss: 1.1039 - val_accuracy: 0.5248\n",
      "Epoch 33/120\n",
      "41/41 [==============================] - 0s 5ms/step - loss: 1.0715 - accuracy: 0.5044 - val_loss: 1.1158 - val_accuracy: 0.5242\n",
      "Epoch 34/120\n",
      "41/41 [==============================] - 0s 6ms/step - loss: 1.0931 - accuracy: 0.5061 - val_loss: 1.1109 - val_accuracy: 0.5014\n",
      "Epoch 35/120\n",
      "41/41 [==============================] - 0s 7ms/step - loss: 1.0601 - accuracy: 0.5309 - val_loss: 1.0979 - val_accuracy: 0.5333\n",
      "Epoch 36/120\n",
      "41/41 [==============================] - 0s 6ms/step - loss: 1.0503 - accuracy: 0.5260 - val_loss: 1.0952 - val_accuracy: 0.5208\n",
      "Epoch 37/120\n",
      "41/41 [==============================] - 0s 5ms/step - loss: 1.0466 - accuracy: 0.5419 - val_loss: 1.1011 - val_accuracy: 0.5145\n",
      "Epoch 38/120\n",
      "41/41 [==============================] - 0s 6ms/step - loss: 1.0650 - accuracy: 0.5292 - val_loss: 1.1051 - val_accuracy: 0.5105\n",
      "Epoch 39/120\n",
      "41/41 [==============================] - 0s 5ms/step - loss: 1.0547 - accuracy: 0.5252 - val_loss: 1.1308 - val_accuracy: 0.5100\n",
      "Epoch 40/120\n",
      "41/41 [==============================] - 0s 5ms/step - loss: 1.0844 - accuracy: 0.5088 - val_loss: 1.1097 - val_accuracy: 0.5236\n",
      "Epoch 41/120\n",
      "41/41 [==============================] - 0s 5ms/step - loss: 1.0612 - accuracy: 0.5208 - val_loss: 1.1180 - val_accuracy: 0.5265\n",
      "Epoch 42/120\n",
      "41/41 [==============================] - 0s 5ms/step - loss: 1.0364 - accuracy: 0.5498 - val_loss: 1.0961 - val_accuracy: 0.5373\n",
      "Epoch 43/120\n",
      "41/41 [==============================] - 0s 5ms/step - loss: 1.0399 - accuracy: 0.5353 - val_loss: 1.0970 - val_accuracy: 0.5202\n",
      "Epoch 44/120\n",
      "41/41 [==============================] - 0s 5ms/step - loss: 1.0421 - accuracy: 0.5427 - val_loss: 1.1267 - val_accuracy: 0.5128\n",
      "Epoch 45/120\n",
      "41/41 [==============================] - 0s 5ms/step - loss: 1.0570 - accuracy: 0.5129 - val_loss: 1.1033 - val_accuracy: 0.5088\n",
      "Epoch 46/120\n",
      "41/41 [==============================] - 0s 5ms/step - loss: 1.0529 - accuracy: 0.5278 - val_loss: 1.1512 - val_accuracy: 0.5054\n",
      "Epoch 47/120\n",
      "41/41 [==============================] - 0s 5ms/step - loss: 1.0336 - accuracy: 0.5301 - val_loss: 1.0980 - val_accuracy: 0.5197\n",
      "Epoch 48/120\n",
      "41/41 [==============================] - 0s 5ms/step - loss: 1.0300 - accuracy: 0.5408 - val_loss: 1.0951 - val_accuracy: 0.5373\n",
      "Epoch 49/120\n",
      "41/41 [==============================] - 0s 5ms/step - loss: 1.0439 - accuracy: 0.5363 - val_loss: 1.1227 - val_accuracy: 0.5145\n",
      "Epoch 50/120\n",
      "41/41 [==============================] - 0s 5ms/step - loss: 1.0597 - accuracy: 0.5336 - val_loss: 1.1286 - val_accuracy: 0.5185\n",
      "Epoch 51/120\n",
      "41/41 [==============================] - 0s 5ms/step - loss: 1.0287 - accuracy: 0.5389 - val_loss: 1.1424 - val_accuracy: 0.4969\n",
      "Epoch 52/120\n",
      "41/41 [==============================] - 0s 5ms/step - loss: 1.0312 - accuracy: 0.5340 - val_loss: 1.1030 - val_accuracy: 0.5322\n",
      "Epoch 53/120\n",
      "41/41 [==============================] - 0s 5ms/step - loss: 1.0431 - accuracy: 0.5237 - val_loss: 1.1079 - val_accuracy: 0.5379\n",
      "Epoch 54/120\n",
      "41/41 [==============================] - 0s 5ms/step - loss: 1.0393 - accuracy: 0.5385 - val_loss: 1.1547 - val_accuracy: 0.5094\n",
      "Epoch 55/120\n",
      "41/41 [==============================] - 0s 5ms/step - loss: 1.0475 - accuracy: 0.5343 - val_loss: 1.1004 - val_accuracy: 0.5282\n",
      "Epoch 56/120\n",
      "41/41 [==============================] - 0s 5ms/step - loss: 1.0366 - accuracy: 0.5308 - val_loss: 1.1064 - val_accuracy: 0.5048\n",
      "Epoch 57/120\n",
      "41/41 [==============================] - 0s 5ms/step - loss: 1.0498 - accuracy: 0.5326 - val_loss: 1.1040 - val_accuracy: 0.5356\n",
      "Epoch 58/120\n",
      "41/41 [==============================] - 0s 5ms/step - loss: 1.0255 - accuracy: 0.5378 - val_loss: 1.1842 - val_accuracy: 0.4581\n"
     ]
    },
    {
     "name": "stdout",
     "output_type": "stream",
     "text": [
      "Epoch 59/120\n",
      "41/41 [==============================] - 0s 5ms/step - loss: 1.0513 - accuracy: 0.5170 - val_loss: 1.0984 - val_accuracy: 0.5311\n",
      "Epoch 60/120\n",
      "41/41 [==============================] - 0s 5ms/step - loss: 1.0175 - accuracy: 0.5418 - val_loss: 1.0928 - val_accuracy: 0.5322\n",
      "Epoch 61/120\n",
      "41/41 [==============================] - 0s 5ms/step - loss: 1.0442 - accuracy: 0.5326 - val_loss: 1.0990 - val_accuracy: 0.5202\n",
      "Epoch 62/120\n",
      "41/41 [==============================] - 0s 5ms/step - loss: 1.0346 - accuracy: 0.5349 - val_loss: 1.1011 - val_accuracy: 0.5265\n",
      "Epoch 63/120\n",
      "41/41 [==============================] - 0s 6ms/step - loss: 1.0349 - accuracy: 0.5341 - val_loss: 1.1137 - val_accuracy: 0.5236\n",
      "Epoch 64/120\n",
      "41/41 [==============================] - 0s 6ms/step - loss: 1.0323 - accuracy: 0.5419 - val_loss: 1.1053 - val_accuracy: 0.5236\n",
      "Epoch 65/120\n",
      "41/41 [==============================] - 0s 6ms/step - loss: 1.0138 - accuracy: 0.5463 - val_loss: 1.0965 - val_accuracy: 0.5356\n",
      "Epoch 66/120\n",
      "41/41 [==============================] - 0s 5ms/step - loss: 1.0387 - accuracy: 0.5289 - val_loss: 1.1425 - val_accuracy: 0.4872\n",
      "Epoch 67/120\n",
      "41/41 [==============================] - 0s 5ms/step - loss: 1.0526 - accuracy: 0.5287 - val_loss: 1.1140 - val_accuracy: 0.5345\n",
      "Epoch 68/120\n",
      "41/41 [==============================] - 0s 6ms/step - loss: 1.0044 - accuracy: 0.5504 - val_loss: 1.0839 - val_accuracy: 0.5356\n",
      "Epoch 69/120\n",
      "41/41 [==============================] - 0s 6ms/step - loss: 1.0112 - accuracy: 0.5483 - val_loss: 1.1030 - val_accuracy: 0.5333\n",
      "Epoch 70/120\n",
      "41/41 [==============================] - 0s 7ms/step - loss: 1.0091 - accuracy: 0.5322 - val_loss: 1.0962 - val_accuracy: 0.5345\n",
      "Epoch 71/120\n",
      "41/41 [==============================] - 0s 8ms/step - loss: 1.0059 - accuracy: 0.5513 - val_loss: 1.0986 - val_accuracy: 0.5362\n",
      "Epoch 72/120\n",
      "41/41 [==============================] - 0s 6ms/step - loss: 0.9981 - accuracy: 0.5634 - val_loss: 1.1044 - val_accuracy: 0.5322\n",
      "Epoch 73/120\n",
      "41/41 [==============================] - 0s 5ms/step - loss: 1.0300 - accuracy: 0.5456 - val_loss: 1.1025 - val_accuracy: 0.5151\n",
      "Epoch 74/120\n",
      "41/41 [==============================] - 0s 5ms/step - loss: 1.0042 - accuracy: 0.5463 - val_loss: 1.0875 - val_accuracy: 0.5362\n",
      "Epoch 75/120\n",
      "41/41 [==============================] - 0s 5ms/step - loss: 1.0152 - accuracy: 0.5495 - val_loss: 1.1201 - val_accuracy: 0.5128\n",
      "Epoch 76/120\n",
      "41/41 [==============================] - 0s 5ms/step - loss: 0.9989 - accuracy: 0.5517 - val_loss: 1.1070 - val_accuracy: 0.5299\n",
      "Epoch 77/120\n",
      "41/41 [==============================] - 0s 5ms/step - loss: 1.0162 - accuracy: 0.5451 - val_loss: 1.1379 - val_accuracy: 0.5111\n",
      "Epoch 78/120\n",
      "41/41 [==============================] - 0s 5ms/step - loss: 1.0062 - accuracy: 0.5519 - val_loss: 1.1076 - val_accuracy: 0.5373\n",
      "Epoch 79/120\n",
      "41/41 [==============================] - 0s 5ms/step - loss: 1.0039 - accuracy: 0.5567 - val_loss: 1.2043 - val_accuracy: 0.4741\n",
      "Epoch 80/120\n",
      "41/41 [==============================] - 0s 5ms/step - loss: 1.0434 - accuracy: 0.5205 - val_loss: 1.1045 - val_accuracy: 0.5248\n",
      "Epoch 81/120\n",
      "41/41 [==============================] - 0s 5ms/step - loss: 0.9930 - accuracy: 0.5653 - val_loss: 1.1015 - val_accuracy: 0.5407\n",
      "Epoch 82/120\n",
      "41/41 [==============================] - 0s 5ms/step - loss: 1.0055 - accuracy: 0.5495 - val_loss: 1.0941 - val_accuracy: 0.5402\n",
      "Epoch 83/120\n",
      "41/41 [==============================] - 0s 6ms/step - loss: 1.0092 - accuracy: 0.5466 - val_loss: 1.1173 - val_accuracy: 0.5276\n",
      "Epoch 84/120\n",
      "41/41 [==============================] - 0s 5ms/step - loss: 0.9839 - accuracy: 0.5598 - val_loss: 1.0900 - val_accuracy: 0.5396\n",
      "Epoch 85/120\n",
      "41/41 [==============================] - 0s 6ms/step - loss: 0.9706 - accuracy: 0.5613 - val_loss: 1.0964 - val_accuracy: 0.5311\n",
      "Epoch 86/120\n",
      "41/41 [==============================] - 0s 5ms/step - loss: 0.9938 - accuracy: 0.5418 - val_loss: 1.0971 - val_accuracy: 0.5339\n",
      "Epoch 87/120\n",
      "41/41 [==============================] - 0s 5ms/step - loss: 0.9747 - accuracy: 0.5751 - val_loss: 1.1015 - val_accuracy: 0.5345\n",
      "Epoch 88/120\n",
      "41/41 [==============================] - 0s 5ms/step - loss: 0.9811 - accuracy: 0.5476 - val_loss: 1.1038 - val_accuracy: 0.5311\n",
      "Epoch 89/120\n",
      "41/41 [==============================] - 0s 6ms/step - loss: 0.9897 - accuracy: 0.5631 - val_loss: 1.1435 - val_accuracy: 0.4843\n",
      "Epoch 90/120\n",
      "41/41 [==============================] - 0s 6ms/step - loss: 1.0232 - accuracy: 0.5444 - val_loss: 1.1067 - val_accuracy: 0.5322\n",
      "Epoch 91/120\n",
      "41/41 [==============================] - 0s 5ms/step - loss: 0.9866 - accuracy: 0.5581 - val_loss: 1.1643 - val_accuracy: 0.4946\n",
      "Epoch 92/120\n",
      "41/41 [==============================] - 0s 5ms/step - loss: 1.0058 - accuracy: 0.5389 - val_loss: 1.1046 - val_accuracy: 0.5402\n",
      "Epoch 93/120\n",
      "41/41 [==============================] - 0s 6ms/step - loss: 0.9991 - accuracy: 0.5546 - val_loss: 1.0969 - val_accuracy: 0.5373\n",
      "Epoch 94/120\n",
      "41/41 [==============================] - 0s 6ms/step - loss: 0.9630 - accuracy: 0.5707 - val_loss: 1.1199 - val_accuracy: 0.5202\n",
      "Epoch 95/120\n",
      "41/41 [==============================] - 0s 5ms/step - loss: 0.9834 - accuracy: 0.5438 - val_loss: 1.1245 - val_accuracy: 0.4980\n",
      "Epoch 96/120\n",
      "41/41 [==============================] - 0s 5ms/step - loss: 0.9648 - accuracy: 0.5608 - val_loss: 1.1147 - val_accuracy: 0.5322\n",
      "Epoch 97/120\n",
      "41/41 [==============================] - 0s 5ms/step - loss: 0.9860 - accuracy: 0.5558 - val_loss: 1.1108 - val_accuracy: 0.5436\n",
      "Epoch 98/120\n",
      "41/41 [==============================] - 0s 6ms/step - loss: 0.9780 - accuracy: 0.5664 - val_loss: 1.1069 - val_accuracy: 0.5407\n",
      "Epoch 99/120\n",
      "41/41 [==============================] - 0s 5ms/step - loss: 0.9587 - accuracy: 0.5793 - val_loss: 1.1197 - val_accuracy: 0.5356\n",
      "Epoch 100/120\n",
      "41/41 [==============================] - 0s 5ms/step - loss: 0.9740 - accuracy: 0.5640 - val_loss: 1.0985 - val_accuracy: 0.5333\n",
      "Epoch 101/120\n",
      "41/41 [==============================] - 0s 6ms/step - loss: 0.9680 - accuracy: 0.5746 - val_loss: 1.1013 - val_accuracy: 0.5493\n",
      "Epoch 102/120\n",
      "41/41 [==============================] - 0s 6ms/step - loss: 0.9679 - accuracy: 0.5629 - val_loss: 1.1115 - val_accuracy: 0.5368\n",
      "Epoch 103/120\n",
      "41/41 [==============================] - 0s 6ms/step - loss: 0.9777 - accuracy: 0.5571 - val_loss: 1.1047 - val_accuracy: 0.5311\n",
      "Epoch 104/120\n",
      "41/41 [==============================] - 0s 6ms/step - loss: 0.9601 - accuracy: 0.5676 - val_loss: 1.1269 - val_accuracy: 0.5236\n",
      "Epoch 105/120\n",
      "41/41 [==============================] - 0s 6ms/step - loss: 0.9696 - accuracy: 0.5553 - val_loss: 1.1244 - val_accuracy: 0.5265\n",
      "Epoch 106/120\n",
      "41/41 [==============================] - 0s 5ms/step - loss: 0.9977 - accuracy: 0.5569 - val_loss: 1.1039 - val_accuracy: 0.5248\n",
      "Epoch 107/120\n",
      "41/41 [==============================] - 0s 6ms/step - loss: 0.9503 - accuracy: 0.5719 - val_loss: 1.1052 - val_accuracy: 0.5356\n",
      "Epoch 108/120\n",
      "41/41 [==============================] - 0s 5ms/step - loss: 0.9591 - accuracy: 0.5645 - val_loss: 1.1017 - val_accuracy: 0.5368\n",
      "Epoch 109/120\n",
      "41/41 [==============================] - 0s 6ms/step - loss: 0.9654 - accuracy: 0.5670 - val_loss: 1.1114 - val_accuracy: 0.5356\n",
      "Epoch 110/120\n",
      "41/41 [==============================] - 0s 5ms/step - loss: 0.9280 - accuracy: 0.5856 - val_loss: 1.1222 - val_accuracy: 0.5345\n",
      "Epoch 111/120\n",
      "41/41 [==============================] - 0s 6ms/step - loss: 0.9567 - accuracy: 0.5639 - val_loss: 1.1380 - val_accuracy: 0.5219\n",
      "Epoch 112/120\n",
      "41/41 [==============================] - 0s 5ms/step - loss: 0.9665 - accuracy: 0.5644 - val_loss: 1.1247 - val_accuracy: 0.5328\n",
      "Epoch 113/120\n",
      "41/41 [==============================] - 0s 5ms/step - loss: 0.9566 - accuracy: 0.5726 - val_loss: 1.1119 - val_accuracy: 0.5276\n",
      "Epoch 114/120\n",
      "41/41 [==============================] - 0s 6ms/step - loss: 0.9678 - accuracy: 0.5650 - val_loss: 1.1020 - val_accuracy: 0.5453\n",
      "Epoch 115/120\n",
      "41/41 [==============================] - 0s 5ms/step - loss: 0.9232 - accuracy: 0.5825 - val_loss: 1.1303 - val_accuracy: 0.5390\n",
      "Epoch 116/120\n"
     ]
    },
    {
     "name": "stdout",
     "output_type": "stream",
     "text": [
      "41/41 [==============================] - 0s 6ms/step - loss: 0.9712 - accuracy: 0.5672 - val_loss: 1.0972 - val_accuracy: 0.5464\n",
      "Epoch 117/120\n",
      "41/41 [==============================] - 0s 6ms/step - loss: 0.9283 - accuracy: 0.5818 - val_loss: 1.1192 - val_accuracy: 0.5379\n",
      "Epoch 118/120\n",
      "41/41 [==============================] - 0s 5ms/step - loss: 0.9310 - accuracy: 0.5841 - val_loss: 1.1217 - val_accuracy: 0.5316\n",
      "Epoch 119/120\n",
      "41/41 [==============================] - 0s 6ms/step - loss: 0.9514 - accuracy: 0.5802 - val_loss: 1.1279 - val_accuracy: 0.5413\n",
      "Epoch 120/120\n",
      "41/41 [==============================] - 0s 6ms/step - loss: 0.9600 - accuracy: 0.5656 - val_loss: 1.1072 - val_accuracy: 0.5442\n"
     ]
    }
   ],
   "source": [
    "#training the model\n",
    "\n",
    "history = model.fit(\n",
    "    df, labels,\n",
    "    validation_split=0.3,\n",
    "    verbose=1, epochs=120, batch_size=100, shuffle=True)"
   ]
  },
  {
   "cell_type": "code",
   "execution_count": 25,
   "metadata": {},
   "outputs": [
    {
     "data": {
      "image/png": "[encoded data removed]",
      "text/plain": [
       "<Figure size 432x288 with 1 Axes>"
      ]
     },
     "metadata": {
      "needs_background": "light"
     },
     "output_type": "display_data"
    }
   ],
   "source": [
    "#Visualization of loss function. \n",
    "def show_loss(history):\n",
    "    plt.figure()\n",
    "    plt.plot(history.history['val_loss'], label=\"val loss\")\n",
    "    plt.plot(history.history['loss'],label=\"train loss\")\n",
    "    plt.xlabel(\"Epoch\")\n",
    "    plt.ylabel(\"Loss\")\n",
    "    plt.legend()\n",
    "    \n",
    "show_loss(history)"
   ]
  },
  {
   "cell_type": "code",
   "execution_count": 27,
   "metadata": {},
   "outputs": [
    {
     "name": "stdout",
     "output_type": "stream",
     "text": [
      "21/21 [==============================] - 0s 1ms/step - loss: 1.1092 - accuracy: 0.5292\n",
      "Accuracy for test data is [1.1091735363006592, 0.5292307734489441]\n"
     ]
    }
   ],
   "source": [
    "#Evaluate our model's performance\n",
    "#adding more nueron's decreaed the accuracy!\n",
    "\n",
    "acc = model.evaluate(df_test, df_testLabels, verbose=1)\n",
    "print('Accuracy for test data is',acc)"
   ]
  },
  {
   "cell_type": "code",
   "execution_count": 29,
   "metadata": {},
   "outputs": [
    {
     "data": {
      "text/plain": [
       "<matplotlib.image.AxesImage at 0x1f1d24b8ca0>"
      ]
     },
     "execution_count": 29,
     "metadata": {},
     "output_type": "execute_result"
    },
    {
     "data": {
      "text/plain": [
       "Text(0.5, 0, 'Predicted labels')"
      ]
     },
     "execution_count": 29,
     "metadata": {},
     "output_type": "execute_result"
    },
    {
     "data": {
      "text/plain": [
       "Text(0, 0.5, 'True labels')"
      ]
     },
     "execution_count": 29,
     "metadata": {},
     "output_type": "execute_result"
    },
    {
     "data": {
      "text/plain": [
       "([<matplotlib.axis.XTick at 0x1f1d249d250>,\n",
       "  <matplotlib.axis.XTick at 0x1f1d249d220>,\n",
       "  <matplotlib.axis.XTick at 0x1f1d24987f0>,\n",
       "  <matplotlib.axis.XTick at 0x1f1d24cb490>,\n",
       "  <matplotlib.axis.XTick at 0x1f1d24cb9a0>,\n",
       "  <matplotlib.axis.XTick at 0x1f1d24cbeb0>],\n",
       " [Text(0, 0, '3'),\n",
       "  Text(1, 0, '4'),\n",
       "  Text(2, 0, '5'),\n",
       "  Text(3, 0, '6'),\n",
       "  Text(4, 0, '7'),\n",
       "  Text(5, 0, '8')])"
      ]
     },
     "execution_count": 29,
     "metadata": {},
     "output_type": "execute_result"
    },
    {
     "data": {
      "text/plain": [
       "([<matplotlib.axis.YTick at 0x1f1d24925e0>,\n",
       "  <matplotlib.axis.YTick at 0x1f1d249d6d0>,\n",
       "  <matplotlib.axis.YTick at 0x1f1d2498e20>,\n",
       "  <matplotlib.axis.YTick at 0x1f1d24ce790>,\n",
       "  <matplotlib.axis.YTick at 0x1f1d24ceee0>,\n",
       "  <matplotlib.axis.YTick at 0x1f1d24d6430>],\n",
       " [Text(0, 0, '3'),\n",
       "  Text(0, 1, '4'),\n",
       "  Text(0, 2, '5'),\n",
       "  Text(0, 3, '6'),\n",
       "  Text(0, 4, '7'),\n",
       "  Text(0, 5, '8')])"
      ]
     },
     "execution_count": 29,
     "metadata": {},
     "output_type": "execute_result"
    },
    {
     "data": {
      "text/plain": [
       "Text(0.5, 1.0, 'Confusion matrix ')"
      ]
     },
     "execution_count": 29,
     "metadata": {},
     "output_type": "execute_result"
    },
    {
     "data": {
      "text/plain": [
       "<matplotlib.colorbar.Colorbar at 0x1f1d2169550>"
      ]
     },
     "execution_count": 29,
     "metadata": {},
     "output_type": "execute_result"
    },
    {
     "data": {
      "image/png": "[encoded data removed]",
      "text/plain": [
       "<Figure size 432x288 with 2 Axes>"
      ]
     },
     "metadata": {
      "needs_background": "light"
     },
     "output_type": "display_data"
    }
   ],
   "source": [
    "preds = model.predict(df_test)\n",
    "preds = [i.round() for i in preds]\n",
    "\n",
    "preds = enc.inverse_transform(preds)\n",
    "testLabels = enc.inverse_transform(df_testLabels)\n",
    "cm = confusion_matrix(testLabels, preds)\n",
    "\n",
    "plt.imshow(cm, cmap=plt.cm.Blues)\n",
    "plt.xlabel(\"Predicted labels\")\n",
    "plt.ylabel(\"True labels\")\n",
    "\n",
    "plt.xticks(np.arange(0,len(np.unique(testLabels)),1),np.unique(testLabels))\n",
    "plt.yticks(np.arange(0,len(np.unique(testLabels)),1),np.unique(testLabels))\n",
    "plt.title('Confusion matrix ')\n",
    "plt.colorbar()\n",
    "plt.show()"
   ]
  },
  {
   "cell_type": "code",
   "execution_count": 30,
   "metadata": {},
   "outputs": [
    {
     "data": {
      "image/png": "[encoded data removed]",
      "text/plain": [
       "<Figure size 432x288 with 1 Axes>"
      ]
     },
     "metadata": {
      "needs_background": "light"
     },
     "output_type": "display_data"
    }
   ],
   "source": [
    "_=plt.hist(enc.inverse_transform(labels),label='training labels')\n",
    "_=plt.hist(testLabels,label='test labels')\n",
    "_=plt.yscale('log')\n",
    "_=plt.legend()"
   ]
  },
  {
   "cell_type": "markdown",
   "metadata": {},
   "source": [
    "# Discussion\n",
    "\n",
    "Given the data set used, it's clear the limiting factor for the \"goodness\" of the network is the quanity of data used to train. To highlight this, we note the above. Here our network has been given an extra (two in this case) layers and more nuerons. As a result, the relaiability of our network decreased significantly. Infact, we can see this as well in our confusion matrix and Loss function vs Epoch plot. The lack of diagonalization and the divergence of of our training and validation loss implies significant overfitting on the model's part. This was made worst by the addition of more nuerons, which from a linear algra perspective gives one more variables to create \"stringent\" basis that will fit the data, but be useless insofar as one wants to extropolate further - again, this is an issue of data. \n"
   ]
  }
 ],
 "metadata": {
  "kernelspec": {
   "display_name": "Python 3",
   "language": "python",
   "name": "python3"
  },
  "language_info": {
   "codemirror_mode": {
    "name": "ipython",
    "version": 3
   },
   "file_extension": ".py",
   "mimetype": "text/x-python",
   "name": "python",
   "nbconvert_exporter": "python",
   "pygments_lexer": "ipython3",
   "version": "3.8.5"
  }
 },
 "nbformat": 4,
 "nbformat_minor": 4
}
